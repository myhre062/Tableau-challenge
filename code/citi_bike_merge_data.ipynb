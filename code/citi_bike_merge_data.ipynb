{
 "cells": [
  {
   "cell_type": "markdown",
   "metadata": {},
   "source": [
    "This file's only purpose is to merge the csv fils for my citi bike data I got from [here](https://s3.amazonaws.com/tripdata/index.html)"
   ]
  },
  {
   "cell_type": "code",
   "execution_count": 5,
   "metadata": {},
   "outputs": [],
   "source": [
    "import pandas as pd\n",
    "from pathlib import Path\n",
    "\n",
    "# Directory where your CSV files are located\n",
    "directory_path = Path('../resources')\n",
    "\n",
    "# List all CSV files in the directory\n",
    "file_names = [file for file in directory_path.iterdir() if file.suffix == '.csv']\n",
    "\n",
    "# Read each CSV file and store them in a list\n",
    "dataframes = [pd.read_csv(file) for file in file_names]\n",
    "\n",
    "# Concatenate all dataframes into a single dataframe\n",
    "combined_dataframe = pd.concat(dataframes, ignore_index=True)\n",
    "\n",
    "# Save the combined dataframe to a new CSV file\n",
    "combined_dataframe.to_csv(directory_path / 'all_citi_bike_data.csv', index=False)\n",
    "\n"
   ]
  },
  {
   "cell_type": "code",
   "execution_count": null,
   "metadata": {},
   "outputs": [],
   "source": []
  }
 ],
 "metadata": {
  "kernelspec": {
   "display_name": "base",
   "language": "python",
   "name": "python3"
  },
  "language_info": {
   "codemirror_mode": {
    "name": "ipython",
    "version": 3
   },
   "file_extension": ".py",
   "mimetype": "text/x-python",
   "name": "python",
   "nbconvert_exporter": "python",
   "pygments_lexer": "ipython3",
   "version": "3.11.7"
  }
 },
 "nbformat": 4,
 "nbformat_minor": 2
}
